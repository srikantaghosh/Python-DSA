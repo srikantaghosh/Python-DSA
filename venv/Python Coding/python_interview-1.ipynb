{
 "cells": [
  {
   "cell_type": "markdown",
   "metadata": {},
   "source": [
    "#### Write a Python Program to find out common letters between two strings?"
   ]
  },
  {
   "cell_type": "code",
   "execution_count": 1,
   "metadata": {},
   "outputs": [
    {
     "name": "stdout",
     "output_type": "stream",
     "text": [
      "{'n'}\n"
     ]
    }
   ],
   "source": [
    "def common_letters():\n",
    "    n1 = input(\"Enter your first name: \")\n",
    "    n2 = input(\"Enter your second name: \")\n",
    "\n",
    "    ##delete duplicates from the strings\n",
    "    s1 = set(n1)\n",
    "    s2 = set(n2)\n",
    "    ## & opertor is used to fetch common letters\n",
    "    lst = s1 & s2\n",
    "    print(lst)\n",
    "\n",
    "common_letters()\n",
    "\n",
    "\n"
   ]
  },
  {
   "cell_type": "markdown",
   "metadata": {},
   "source": [
    "#### Count the frequency of words appearing in a string\n"
   ]
  },
  {
   "cell_type": "code",
   "execution_count": null,
   "metadata": {},
   "outputs": [
    {
     "name": "stdout",
     "output_type": "stream",
     "text": [
      "{}\n"
     ]
    }
   ],
   "source": [
    "def word_count():\n",
    "    str = input(\"Enter the sentence: \")\n",
    "\n",
    "    li = str.split()\n",
    "\n",
    "    d= {}\n",
    "\n",
    "    for i in li:\n",
    "        if i not in d.keys():\n",
    "            d[i] = 0\n",
    "        d[i] = d[i]+1\n",
    "    print(d)\n",
    "\n",
    "word_count()\n",
    "\n",
    "\n"
   ]
  },
  {
   "cell_type": "markdown",
   "metadata": {},
   "source": [
    "#### Convert two list into dictionary\n"
   ]
  },
  {
   "cell_type": "code",
   "execution_count": null,
   "metadata": {},
   "outputs": [
    {
     "name": "stdout",
     "output_type": "stream",
     "text": [
      "{1: 'Sri', 2: 'Tri', 3: 'Scooby'}\n"
     ]
    }
   ],
   "source": [
    "def list_to_dic():\n",
    "    keys = [1,2,3]\n",
    "    values= ['Sri','Tri','Scooby']\n",
    "\n",
    "    result = dict(zip(keys,values))\n",
    "    print(result)\n",
    "\n",
    "list_to_dic()"
   ]
  },
  {
   "cell_type": "markdown",
   "metadata": {},
   "source": [
    "#### Dictionary to Tuple"
   ]
  },
  {
   "cell_type": "code",
   "execution_count": null,
   "metadata": {},
   "outputs": [
    {
     "name": "stdout",
     "output_type": "stream",
     "text": [
      "(1, 'Sri')\n",
      "(2, 'Tri')\n",
      "(3, 'Scooby')\n"
     ]
    }
   ],
   "source": [
    "def dict_to_tuple():\n",
    "    x = {1: 'Sri', 2: 'Tri', 3: 'Scooby'}\n",
    "\n",
    "    for i in x.items():\n",
    "        print(i)\n",
    "    \n",
    "dict_to_tuple()\n",
    "    "
   ]
  },
  {
   "cell_type": "markdown",
   "metadata": {},
   "source": [
    "### Understanding Array"
   ]
  },
  {
   "cell_type": "code",
   "execution_count": null,
   "metadata": {},
   "outputs": [
    {
     "name": "stdout",
     "output_type": "stream",
     "text": [
      "array('i', [5, 8, 9, 4, 6])\n"
     ]
    }
   ],
   "source": [
    "from array import *\n",
    "\n",
    "vals = array('i',[5,8,9,4,6])\n",
    "print(vals)"
   ]
  },
  {
   "cell_type": "markdown",
   "metadata": {},
   "source": []
  },
  {
   "cell_type": "code",
   "execution_count": null,
   "metadata": {},
   "outputs": [
    {
     "ename": "TypeError",
     "evalue": "'list' object cannot be interpreted as an integer",
     "output_type": "error",
     "traceback": [
      "\u001b[0;31m---------------------------------------------------------------------------\u001b[0m",
      "\u001b[0;31mTypeError\u001b[0m                                 Traceback (most recent call last)",
      "Cell \u001b[0;32mIn[15], line 6\u001b[0m\n\u001b[1;32m      4\u001b[0m                \u001b[38;5;28mprint\u001b[39m(\u001b[38;5;28mmin\u001b[39m(i))\n\u001b[1;32m      5\u001b[0m A\u001b[38;5;241m=\u001b[39m [\u001b[38;5;241m1\u001b[39m,\u001b[38;5;241m2\u001b[39m,\u001b[38;5;241m3\u001b[39m]\n\u001b[0;32m----> 6\u001b[0m \u001b[43msolution\u001b[49m\u001b[43m(\u001b[49m\u001b[43mA\u001b[49m\u001b[43m)\u001b[49m \n",
      "Cell \u001b[0;32mIn[15], line 2\u001b[0m, in \u001b[0;36msolution\u001b[0;34m(A)\u001b[0m\n\u001b[1;32m      1\u001b[0m \u001b[38;5;28;01mdef\u001b[39;00m \u001b[38;5;21msolution\u001b[39m(A):\n\u001b[0;32m----> 2\u001b[0m      \u001b[38;5;28;01mfor\u001b[39;00m i \u001b[38;5;129;01min\u001b[39;00m \u001b[38;5;28;43mrange\u001b[39;49m\u001b[43m(\u001b[49m\u001b[43mA\u001b[49m\u001b[43m)\u001b[49m:\n\u001b[1;32m      3\u001b[0m           \u001b[38;5;28;01mif\u001b[39;00m i \u001b[38;5;129;01mnot\u001b[39;00m \u001b[38;5;129;01min\u001b[39;00m \u001b[38;5;28mrange\u001b[39m(A):\n\u001b[1;32m      4\u001b[0m                \u001b[38;5;28mprint\u001b[39m(\u001b[38;5;28mmin\u001b[39m(i))\n",
      "\u001b[0;31mTypeError\u001b[0m: 'list' object cannot be interpreted as an integer"
     ]
    }
   ],
   "source": [
    "def solution(A):\n",
    "     for i in range(A):\n",
    "          if i not in range(A):\n",
    "               print(min(i))\n",
    "A= [1,2,3]\n",
    "solution(A) \n",
    "          "
   ]
  },
  {
   "cell_type": "markdown",
   "metadata": {},
   "source": [
    "### Strings"
   ]
  },
  {
   "cell_type": "code",
   "execution_count": null,
   "metadata": {},
   "outputs": [
    {
     "name": "stdout",
     "output_type": "stream",
     "text": [
      "Hello\n",
      "Hello Python\n",
      "nohtyP olleH\n",
      "Python\n"
     ]
    }
   ],
   "source": [
    "strg = \"Hello Python\"\n",
    "\n",
    "print(strg[0:5])\n",
    "print(strg[0:])\n",
    "print(strg[::-1])\n",
    "print(strg[6:])\n"
   ]
  },
  {
   "cell_type": "markdown",
   "metadata": {},
   "source": [
    "### Sum of digits"
   ]
  },
  {
   "cell_type": "code",
   "execution_count": null,
   "metadata": {},
   "outputs": [
    {
     "name": "stdout",
     "output_type": "stream",
     "text": [
      "9\n"
     ]
    }
   ],
   "source": [
    "\n",
    "def sum_of_two_digits():\n",
    "    enter_digit = input(\"Enter two digit number: \")\n",
    "    sum = int(enter_digit[0]) + int(enter_digit[1])\n",
    "\n",
    "    return sum\n",
    "\n",
    "\n",
    "print(sum_of_two_digits())"
   ]
  },
  {
   "cell_type": "markdown",
   "metadata": {},
   "source": [
    "### Backward Traversal\n",
    "##### Write a while loop that starts at the last character in the string and works its way backwards to the first character in the string, printing each letter on a separate line, except backwards."
   ]
  },
  {
   "cell_type": "code",
   "execution_count": null,
   "metadata": {},
   "outputs": [
    {
     "name": "stdout",
     "output_type": "stream",
     "text": [
      "k\n",
      "i\n",
      "r\n",
      "s\n"
     ]
    }
   ],
   "source": [
    "new_str =  input(\"Enter a string: \")\n",
    "index = -1\n",
    "length = -1 * len(new_str)\n",
    "\n",
    "while index >= length:\n",
    "    letter = new_str[index]\n",
    "    print(letter)\n",
    "    index -= 1\n",
    "\n",
    "\n"
   ]
  },
  {
   "cell_type": "code",
   "execution_count": null,
   "metadata": {},
   "outputs": [
    {
     "name": "stdout",
     "output_type": "stream",
     "text": [
      "['a', 'b', 'c']\n",
      "a\n",
      "b\n",
      "c\n"
     ]
    }
   ],
   "source": [
    "vegies = ['a','b','c']\n",
    "\n",
    "print(vegies)\n",
    "\n",
    "for v in vegies:\n",
    "    print(v)"
   ]
  },
  {
   "cell_type": "code",
   "execution_count": null,
   "metadata": {},
   "outputs": [
    {
     "name": "stdout",
     "output_type": "stream",
     "text": [
      "1\n",
      "3\n",
      "6\n"
     ]
    }
   ],
   "source": [
    "## Initialising a Variable\n",
    "\n",
    "nums = [1,2,3]\n",
    "sums = 0 ##Initialise\n",
    "\n",
    "for num in nums:\n",
    "    sums= sums+num\n",
    "    print(sums)\n",
    "    \n"
   ]
  },
  {
   "cell_type": "markdown",
   "metadata": {},
   "source": [
    "### Highest Score\n",
    "#### A List of scores of students are given, implement a program that calculates the highest score from the given list."
   ]
  },
  {
   "cell_type": "code",
   "execution_count": null,
   "metadata": {},
   "outputs": [
    {
     "name": "stdout",
     "output_type": "stream",
     "text": [
      "Highest score outside loop is 90\n"
     ]
    }
   ],
   "source": [
    "student_scores = [80, 60, 90, 65, 75, 55]\n",
    "\n",
    "max_score = 0\n",
    "for score in student_scores:\n",
    "    if max_score < score:\n",
    "        max_score = score\n",
    "        \n",
    "print(f\"Highest score outside loop is {max_score}\")\n",
    "\n",
    "   \n",
    "\n",
    "\n",
    "    "
   ]
  },
  {
   "cell_type": "markdown",
   "metadata": {},
   "source": [
    "### Find Integer Numbers\n",
    "#### Implement a program which finds integer numbers from given List."
   ]
  },
  {
   "cell_type": "code",
   "execution_count": null,
   "metadata": {},
   "outputs": [
    {
     "name": "stdout",
     "output_type": "stream",
     "text": [
      "11\n",
      "30\n",
      "54\n"
     ]
    }
   ],
   "source": [
    "#manual approach\n",
    "custom_list = [11, 30.1, 90.2, 30, 45.1, 54, '54']\n",
    "\n",
    "integer_test = int(0)\n",
    "for num in custom_list:\n",
    "    if type(integer_test) == type(num):\n",
    "        integer_test = num\n",
    "        print(integer_test)"
   ]
  },
  {
   "cell_type": "code",
   "execution_count": null,
   "metadata": {},
   "outputs": [
    {
     "name": "stdout",
     "output_type": "stream",
     "text": [
      "11\n",
      "30\n",
      "54\n"
     ]
    }
   ],
   "source": [
    "#functional approach\n",
    "custom_list = [11, 30.1, 90.2, 30, 45.1, 54, '54']\n",
    "\n",
    "for num in custom_list:\n",
    "    if isinstance(num,int):\n",
    "        print(num)"
   ]
  },
  {
   "cell_type": "markdown",
   "metadata": {},
   "source": [
    "### Sum of Above Average Scores\n",
    "#### Implement a function which takes a List as a parameter and returns the sum of the scores which are above average.\n",
    "\n",
    "##### Example\n",
    "##### student_scores = [80, 60, 50, 65, 75, 55]\n",
    "##### sum_score_above_average(student_scores) # 220"
   ]
  },
  {
   "cell_type": "code",
   "execution_count": null,
   "metadata": {},
   "outputs": [
    {
     "name": "stdout",
     "output_type": "stream",
     "text": [
      "sum_score_above_average(student_scores) #  220\n"
     ]
    }
   ],
   "source": [
    "student_scores = [80, 60, 50, 65, 75, 55]\n",
    "\n",
    "def sum_score_above_average(p_student_scores):\n",
    "    sum_scores = 0\n",
    "    numbers_of_student = 0\n",
    "    for scores in p_student_scores:\n",
    "        sum_scores += scores\n",
    "        numbers_of_student+=1 \n",
    "    averag_score = sum_scores / numbers_of_student\n",
    "\n",
    "    final_score = 0\n",
    "\n",
    "    for scores in p_student_scores:\n",
    "        if scores > averag_score:\n",
    "            final_score += scores\n",
    "\n",
    "\n",
    "    print(f\"sum_score_above_average(student_scores) #  {final_score}\")\n",
    "\n",
    "sum_score_above_average(student_scores)"
   ]
  },
  {
   "cell_type": "markdown",
   "metadata": {},
   "source": [
    "### Loop over custom function"
   ]
  },
  {
   "cell_type": "code",
   "execution_count": null,
   "metadata": {},
   "outputs": [
    {
     "name": "stdout",
     "output_type": "stream",
     "text": [
      "abshs False\n",
      "1234shssjs True\n"
     ]
    }
   ],
   "source": [
    "def password_controller(password):\n",
    "    if len(password)>8:\n",
    "        return True\n",
    "    else:\n",
    "        return False\n",
    "    \n",
    "password_list = [\"abshs\",\"1234shssjs\"]\n",
    "\n",
    "for password in password_list:\n",
    "    result = password_controller(password)\n",
    "    print(password, result)"
   ]
  },
  {
   "cell_type": "markdown",
   "metadata": {},
   "source": [
    "#### Adding Even Numbers in ANY Range"
   ]
  },
  {
   "cell_type": "code",
   "execution_count": null,
   "metadata": {},
   "outputs": [
    {
     "data": {
      "text/plain": [
       "2550"
      ]
     },
     "execution_count": 90,
     "metadata": {},
     "output_type": "execute_result"
    }
   ],
   "source": [
    "def add_even_numbers(start, end):\n",
    "#TODO\n",
    "    total_sum = 0\n",
    "    for num in range(start,end+1):\n",
    "        if num %  2 == 0:\n",
    "            total_sum += num\n",
    "    return total_sum\n",
    "\n",
    "\n",
    "add_even_numbers(1,100)\n",
    "        \n",
    "\n",
    "    \n"
   ]
  },
  {
   "cell_type": "markdown",
   "metadata": {},
   "source": [
    "### Check Username\n",
    "#### Implement a while loop which gets continuously username from console by using input function and terminates when the input is equal to \"test\"."
   ]
  },
  {
   "cell_type": "code",
   "execution_count": null,
   "metadata": {},
   "outputs": [],
   "source": [
    "username = \"\"\n",
    "\n",
    "\n",
    "while username != \"test\":\n",
    "    username = input(\"Enter username: \")\n",
    "\n",
    "    "
   ]
  },
  {
   "cell_type": "markdown",
   "metadata": {},
   "source": [
    "### CONTINUE"
   ]
  },
  {
   "cell_type": "code",
   "execution_count": null,
   "metadata": {},
   "outputs": [
    {
     "name": "stdout",
     "output_type": "stream",
     "text": [
      "1\n",
      "2\n",
      "3\n",
      "4\n",
      "6\n",
      "7\n",
      "8\n",
      "9\n",
      "10\n"
     ]
    }
   ],
   "source": [
    "## PRINTING ALL NUMBERS FROM 1 TO 10 EXCEPT 5\n",
    "\n",
    "for num in range(1,11):\n",
    "    if num == 5:\n",
    "        continue\n",
    "    print(num)"
   ]
  },
  {
   "cell_type": "markdown",
   "metadata": {},
   "source": [
    "### BREAK"
   ]
  },
  {
   "cell_type": "code",
   "execution_count": null,
   "metadata": {},
   "outputs": [
    {
     "name": "stdout",
     "output_type": "stream",
     "text": [
      "1\n",
      "2\n",
      "3\n",
      "4\n"
     ]
    }
   ],
   "source": [
    "## PRINTING ALL NUMBERS FROM 1 UNTILL IT REACHES 5\n",
    "\n",
    "for num in range(1,11):\n",
    "    if num == 5:\n",
    "        break\n",
    "    print(num)"
   ]
  },
  {
   "cell_type": "markdown",
   "metadata": {},
   "source": [
    "### Numbers Divisible by 5 Until 130\n",
    "#### Implement a function which takes a given ordered list as a parameter and displays numbers divisible by 5 and if a number is greater than 130 display STOP in the console."
   ]
  },
  {
   "cell_type": "code",
   "execution_count": null,
   "metadata": {},
   "outputs": [
    {
     "name": "stdout",
     "output_type": "stream",
     "text": [
      "15\n",
      "40\n",
      "75\n",
      "STOP\n"
     ]
    }
   ],
   "source": [
    "p_list = [12, 15, 32, 40, 52, 75, 122, 132, 150, 180, 200] \n",
    "\n",
    "def numbers_divisible_byfive(p_list):\n",
    "    for num in p_list:\n",
    "        if num % 5 ==0:\n",
    "            print(num)\n",
    "        elif num > 130:\n",
    "            break\n",
    "    print(\"STOP\")\n",
    "\n",
    "numbers_divisible_byfive(p_list)"
   ]
  },
  {
   "cell_type": "markdown",
   "metadata": {},
   "source": [
    "### Factorial using Loop\n",
    "#### Implement a function that takes an integer number as a parameter and returns factorial of this number."
   ]
  },
  {
   "cell_type": "code",
   "execution_count": null,
   "metadata": {},
   "outputs": [
    {
     "name": "stdout",
     "output_type": "stream",
     "text": [
      "The factorial of 4 is 24\n"
     ]
    }
   ],
   "source": [
    "def factorial(p_num):\n",
    "    #Initial factorial equal to 1\n",
    "    factorial = 1\n",
    "    if p_num == 0:\n",
    "       return \"The factorial of 0 is 1\"\n",
    "    elif p_num < 0:\n",
    "        return \"Factorial does not exist for negative numbers\"\n",
    "    else:\n",
    "        for i in range(1,p_num+1):\n",
    "            factorial = factorial*i\n",
    "        return f\"The factorial of {p_num} is {factorial}\"\n",
    "p_num = int(input(\"Enter a number: \"))\n",
    "\n",
    "factorial(p_num)\n",
    "\n"
   ]
  },
  {
   "cell_type": "markdown",
   "metadata": {},
   "source": [
    "### Sum, Count and Average of Entered Numbers\n",
    "##### Write a program which repeatedly reads numbers until the user enters \"done\". Once “done” is entered, print out the total, count, and average of the numbers.\n",
    "##### If the user enters anything other than a number, detect their mistake using try and except and print an error message and skip to the next number.\n",
    "##### Step 1 - Create a function which checks for numbers using try and except block.\n",
    "##### Step 2 - Inside while loop ask for input\n",
    "##### Step 3 - Calculate count, sum and average"
   ]
  },
  {
   "cell_type": "code",
   "execution_count": null,
   "metadata": {},
   "outputs": [
    {
     "name": "stdout",
     "output_type": "stream",
     "text": [
      "Error, please enter a numeric input\n",
      "Error, please enter a numeric input\n",
      "12.0 3 4.0\n"
     ]
    }
   ],
   "source": [
    "\n",
    "def check_for_flaot(p_input):\n",
    "    try:\n",
    "        val = float(p_input)\n",
    "        return val\n",
    "    except(ValueError, TypeError):\n",
    "        print(\"Error, please enter a numeric input\")\n",
    "        return False\n",
    "##initilising variable   \n",
    "count = 0\n",
    "average= 0.0\n",
    "total = 0.0\n",
    "\n",
    "while True:\n",
    "    input_number =  input(\"Enter a number: \")\n",
    "    if input_number == \"done\":\n",
    "        break\n",
    "\n",
    "\n",
    "    number = check_for_flaot(input_number)\n",
    "    if not number:\n",
    "        continue\n",
    "\n",
    "\n",
    "    count+=1\n",
    "    total = total+number\n",
    "if count != 0:\n",
    "    average = total/count\n",
    "\n",
    "print(total, count, average)\n",
    "\n"
   ]
  },
  {
   "cell_type": "markdown",
   "metadata": {},
   "source": [
    "##### write a function:\n",
    "##### def solution(A):\n",
    "\n",
    "##### that given an array A of N integers, returns the smallest positive integer (greater than zero) that doest not occur in A.\n",
    "\n",
    "##### For example, given A= [1,3,6,4,1,2], THE FUNCTION should return ."
   ]
  },
  {
   "cell_type": "code",
   "execution_count": null,
   "metadata": {},
   "outputs": [
    {
     "data": {
      "text/plain": [
       "2"
      ]
     },
     "execution_count": 126,
     "metadata": {},
     "output_type": "execute_result"
    }
   ],
   "source": [
    "A=[1,3,6,4,1,-2]\n",
    "def solution(A):\n",
    "    # Create a set to store positive integers encountered\n",
    "    positive_integers = set()\n",
    "    \n",
    "    # Iterate through the array to record positive integers\n",
    "    for num in A:\n",
    "        if num > 0:\n",
    "            positive_integers.add(num)\n",
    "    \n",
    "    smallest_positive=1\n",
    "\n",
    "    while smallest_positive in positive_integers:\n",
    "        smallest_positive+=1\n",
    "\n",
    "    return smallest_positive\n",
    "\n",
    "\n",
    "solution(A)\n",
    "\n",
    "\n"
   ]
  },
  {
   "cell_type": "markdown",
   "metadata": {},
   "source": [
    "#### Find the Missing Positive Integer: Given an unsorted integer array, find the smallest positive integer that does not exist in the array.\n"
   ]
  },
  {
   "cell_type": "code",
   "execution_count": null,
   "metadata": {},
   "outputs": [
    {
     "data": {
      "text/plain": [
       "6"
      ]
     },
     "execution_count": 136,
     "metadata": {},
     "output_type": "execute_result"
    }
   ],
   "source": [
    "nums = [3, 4, 5, 1,2]\n",
    "# Output: 2\n",
    "\n",
    "def missing_positive_int(nums):\n",
    "    positive_integer = set()\n",
    "\n",
    "    for num in nums:\n",
    "        if num > 0:\n",
    "            positive_integer.add(num)\n",
    "\n",
    "    smallest_positive = 1\n",
    "    while smallest_positive in positive_integer:\n",
    "        smallest_positive+=1\n",
    "\n",
    "    return smallest_positive\n",
    "\n",
    "\n",
    "missing_positive_int(nums)"
   ]
  },
  {
   "cell_type": "markdown",
   "metadata": {},
   "source": [
    "#### Find the Missing Element: Given two arrays nums1 and nums2, where nums2 contains all elements present in nums1 except one, find the missing element. All elements in nums1 and nums2 are unique."
   ]
  },
  {
   "cell_type": "code",
   "execution_count": null,
   "metadata": {},
   "outputs": [
    {
     "data": {
      "text/plain": [
       "5"
      ]
     },
     "execution_count": 144,
     "metadata": {},
     "output_type": "execute_result"
    }
   ],
   "source": [
    "# Example usage:\n",
    "nums1 = [4, 12, 9, 5, 6]\n",
    "nums2 = [4, 9, 12, 6]\n",
    "\n",
    "def missing_num(nums1, nums2):\n",
    "    missing_num= 0 \n",
    "    for num in nums1+nums2:\n",
    "        missing_num ^= num\n",
    "    return missing_num\n",
    "    \n",
    "## This loop iterates through all the elements in the concatenated list of nums1 and nums2. For each element, it performs an XOR operation (^=) with the missing_element. XOR operation (exclusive OR) is a bitwise operation that results in 1 if the bits are different, and 0 if they are the same.\n",
    "\n",
    "## If a number appears twice (once in nums1 and once in nums2), its XOR will cancel out, leaving the missing element.\n",
    "## If a number appears only once, its XOR with 0 (initial value of missing_element) will give the number itself.\n",
    "\n",
    "missing_num(nums1, nums2)"
   ]
  },
  {
   "cell_type": "markdown",
   "metadata": {},
   "source": [
    "##### Write a function to calculate the sum of all elements in a given list of integers."
   ]
  },
  {
   "cell_type": "code",
   "execution_count": null,
   "metadata": {},
   "outputs": [
    {
     "data": {
      "text/plain": [
       "15"
      ]
     },
     "execution_count": 145,
     "metadata": {},
     "output_type": "execute_result"
    }
   ],
   "source": [
    "numbers = [1, 2, 3, 4, 5]\n",
    "\n",
    "def cal_sum(a):\n",
    "    total=0\n",
    "    for num in a:\n",
    "        total+=num\n",
    "    return total\n",
    "\n",
    "\n",
    "cal_sum(numbers)"
   ]
  },
  {
   "cell_type": "markdown",
   "metadata": {},
   "source": [
    "##### Write a function to find the maximum element in a list of integers."
   ]
  },
  {
   "cell_type": "code",
   "execution_count": null,
   "metadata": {},
   "outputs": [
    {
     "data": {
      "text/plain": [
       "10"
      ]
     },
     "execution_count": 147,
     "metadata": {},
     "output_type": "execute_result"
    }
   ],
   "source": [
    "numbers = [5, 8, 2, 10, 3]\n",
    "def max_num(nums):\n",
    "    maximum_number = 0\n",
    "    for n in nums:\n",
    "        if maximum_number<n:\n",
    "            maximum_number= n\n",
    "    return maximum_number\n",
    "\n",
    "max_num(numbers)"
   ]
  },
  {
   "cell_type": "markdown",
   "metadata": {},
   "source": [
    "##### how you can perform null imputation with the mean of numbers for a specific column using pandas\n"
   ]
  },
  {
   "cell_type": "code",
   "execution_count": null,
   "metadata": {},
   "outputs": [
    {
     "data": {
      "text/html": [
       "<div>\n",
       "<style scoped>\n",
       "    .dataframe tbody tr th:only-of-type {\n",
       "        vertical-align: middle;\n",
       "    }\n",
       "\n",
       "    .dataframe tbody tr th {\n",
       "        vertical-align: top;\n",
       "    }\n",
       "\n",
       "    .dataframe thead th {\n",
       "        text-align: right;\n",
       "    }\n",
       "</style>\n",
       "<table border=\"1\" class=\"dataframe\">\n",
       "  <thead>\n",
       "    <tr style=\"text-align: right;\">\n",
       "      <th></th>\n",
       "      <th>order_id</th>\n",
       "      <th>customer_id</th>\n",
       "      <th>product_id</th>\n",
       "      <th>quantity</th>\n",
       "      <th>unit_price</th>\n",
       "    </tr>\n",
       "  </thead>\n",
       "  <tbody>\n",
       "    <tr>\n",
       "      <th>0</th>\n",
       "      <td>101</td>\n",
       "      <td>201</td>\n",
       "      <td>301.0</td>\n",
       "      <td>5.0</td>\n",
       "      <td>10.5</td>\n",
       "    </tr>\n",
       "    <tr>\n",
       "      <th>1</th>\n",
       "      <td>102</td>\n",
       "      <td>202</td>\n",
       "      <td>302.0</td>\n",
       "      <td>3.0</td>\n",
       "      <td>NaN</td>\n",
       "    </tr>\n",
       "    <tr>\n",
       "      <th>2</th>\n",
       "      <td>103</td>\n",
       "      <td>203</td>\n",
       "      <td>NaN</td>\n",
       "      <td>4.0</td>\n",
       "      <td>15.2</td>\n",
       "    </tr>\n",
       "    <tr>\n",
       "      <th>3</th>\n",
       "      <td>104</td>\n",
       "      <td>204</td>\n",
       "      <td>304.0</td>\n",
       "      <td>NaN</td>\n",
       "      <td>8.0</td>\n",
       "    </tr>\n",
       "    <tr>\n",
       "      <th>4</th>\n",
       "      <td>105</td>\n",
       "      <td>205</td>\n",
       "      <td>305.0</td>\n",
       "      <td>2.0</td>\n",
       "      <td>12.3</td>\n",
       "    </tr>\n",
       "  </tbody>\n",
       "</table>\n",
       "</div>"
      ],
      "text/plain": [
       "   order_id  customer_id  product_id  quantity  unit_price\n",
       "0       101          201       301.0       5.0        10.5\n",
       "1       102          202       302.0       3.0         NaN\n",
       "2       103          203         NaN       4.0        15.2\n",
       "3       104          204       304.0       NaN         8.0\n",
       "4       105          205       305.0       2.0        12.3"
      ]
     },
     "execution_count": 148,
     "metadata": {},
     "output_type": "execute_result"
    }
   ],
   "source": [
    "import pandas as pd\n",
    "\n",
    "# Sample order data\n",
    "order_data = {\n",
    "    'order_id': [101, 102, 103, 104, 105],\n",
    "    'customer_id': [201, 202, 203, 204, 205],\n",
    "    'product_id': [301, 302, None, 304, 305],  # Simulating missing values\n",
    "    'quantity': [5, 3, 4, None, 2],            # Simulating missing values\n",
    "    'unit_price': [10.5, None, 15.2, 8.0, 12.3],  # Simulating missing values\n",
    "}\n",
    "\n",
    "df = pd.DataFrame(order_data)\n",
    "df"
   ]
  },
  {
   "cell_type": "code",
   "execution_count": null,
   "metadata": {},
   "outputs": [
    {
     "data": {
      "text/html": [
       "<div>\n",
       "<style scoped>\n",
       "    .dataframe tbody tr th:only-of-type {\n",
       "        vertical-align: middle;\n",
       "    }\n",
       "\n",
       "    .dataframe tbody tr th {\n",
       "        vertical-align: top;\n",
       "    }\n",
       "\n",
       "    .dataframe thead th {\n",
       "        text-align: right;\n",
       "    }\n",
       "</style>\n",
       "<table border=\"1\" class=\"dataframe\">\n",
       "  <thead>\n",
       "    <tr style=\"text-align: right;\">\n",
       "      <th></th>\n",
       "      <th>order_id</th>\n",
       "      <th>customer_id</th>\n",
       "      <th>product_id</th>\n",
       "      <th>quantity</th>\n",
       "      <th>unit_price</th>\n",
       "    </tr>\n",
       "  </thead>\n",
       "  <tbody>\n",
       "    <tr>\n",
       "      <th>0</th>\n",
       "      <td>101</td>\n",
       "      <td>201</td>\n",
       "      <td>301.0</td>\n",
       "      <td>5.0</td>\n",
       "      <td>10.5</td>\n",
       "    </tr>\n",
       "    <tr>\n",
       "      <th>1</th>\n",
       "      <td>102</td>\n",
       "      <td>202</td>\n",
       "      <td>302.0</td>\n",
       "      <td>3.0</td>\n",
       "      <td>11.5</td>\n",
       "    </tr>\n",
       "    <tr>\n",
       "      <th>2</th>\n",
       "      <td>103</td>\n",
       "      <td>203</td>\n",
       "      <td>NaN</td>\n",
       "      <td>4.0</td>\n",
       "      <td>15.2</td>\n",
       "    </tr>\n",
       "    <tr>\n",
       "      <th>3</th>\n",
       "      <td>104</td>\n",
       "      <td>204</td>\n",
       "      <td>304.0</td>\n",
       "      <td>NaN</td>\n",
       "      <td>8.0</td>\n",
       "    </tr>\n",
       "    <tr>\n",
       "      <th>4</th>\n",
       "      <td>105</td>\n",
       "      <td>205</td>\n",
       "      <td>305.0</td>\n",
       "      <td>2.0</td>\n",
       "      <td>12.3</td>\n",
       "    </tr>\n",
       "  </tbody>\n",
       "</table>\n",
       "</div>"
      ],
      "text/plain": [
       "   order_id  customer_id  product_id  quantity  unit_price\n",
       "0       101          201       301.0       5.0        10.5\n",
       "1       102          202       302.0       3.0        11.5\n",
       "2       103          203         NaN       4.0        15.2\n",
       "3       104          204       304.0       NaN         8.0\n",
       "4       105          205       305.0       2.0        12.3"
      ]
     },
     "execution_count": 150,
     "metadata": {},
     "output_type": "execute_result"
    }
   ],
   "source": [
    "mean_unit_price = df['unit_price'].mean()\n",
    "\n",
    "df['unit_price'].fillna(mean_unit_price, inplace= True)\n",
    "\n",
    "df"
   ]
  },
  {
   "cell_type": "markdown",
   "metadata": {},
   "source": [
    "### LIST OPERATIONS"
   ]
  },
  {
   "cell_type": "code",
   "execution_count": null,
   "metadata": {},
   "outputs": [
    {
     "name": "stdout",
     "output_type": "stream",
     "text": [
      "[20, 40, 60, 80]\n"
     ]
    }
   ],
   "source": [
    "numbers = [10,20,30,40]\n",
    "\n",
    "for index in range(len(numbers)):\n",
    "    numbers[index] = numbers[index]*2\n",
    "\n",
    "print(numbers)\n"
   ]
  },
  {
   "cell_type": "markdown",
   "metadata": {},
   "source": [
    "#### Square Of Items\n",
    "##### Implement a function that takes a list as a parameter and turn list items into their square."
   ]
  },
  {
   "cell_type": "code",
   "execution_count": null,
   "metadata": {},
   "outputs": [
    {
     "data": {
      "text/plain": [
       "[1, 4, 9, 16, 25]"
      ]
     },
     "execution_count": 170,
     "metadata": {},
     "output_type": "execute_result"
    }
   ],
   "source": [
    "def square_list(p_list):\n",
    "    squared_list= []\n",
    "    for num in p_list:\n",
    "        squared_list.append(num**2)\n",
    "    return squared_list\n",
    "\n",
    "    \n",
    "custom_list = [1,2,3,4,5]\n",
    "square_list(custom_list)"
   ]
  },
  {
   "cell_type": "code",
   "execution_count": null,
   "metadata": {},
   "outputs": [
    {
     "data": {
      "text/plain": [
       "[1, 4, 9, 16, 25]"
      ]
     },
     "execution_count": 172,
     "metadata": {},
     "output_type": "execute_result"
    }
   ],
   "source": [
    "## Second approach\n",
    "\n",
    "def square_list(p_list):\n",
    "    for index in range(len(p_list)):\n",
    "        p_list[index] =  p_list[index] * p_list[index]\n",
    "    return p_list\n",
    "\n",
    "    \n",
    "custom_list = [1,2,3,4,5]\n",
    "square_list(custom_list)"
   ]
  },
  {
   "cell_type": "code",
   "execution_count": null,
   "metadata": {},
   "outputs": [
    {
     "name": "stdout",
     "output_type": "stream",
     "text": [
      "['Tomato', 'Cucumber', 'Broccoli']\n"
     ]
    }
   ],
   "source": [
    "## SLICING\n",
    "vegetables = [\"Tomato\", \"Cucumber\", \"Broccoli\", \"Onion\", \"Garlic\"]\n",
    "print(vegetables[:-2]) \n"
   ]
  },
  {
   "cell_type": "code",
   "execution_count": null,
   "metadata": {},
   "outputs": [
    {
     "name": "stdout",
     "output_type": "stream",
     "text": [
      "[10, 9, 8, 7, 6, 5, 4, 3, 2, 1]\n"
     ]
    }
   ],
   "source": [
    "## Reverse a List using Slice Operator\n",
    "\n",
    "custom_list = [1,2,3,4,5,6,7,8,9,10]\n",
    "newlist = custom_list[::-1]\n",
    "print(newlist)\n",
    "\n"
   ]
  },
  {
   "cell_type": "markdown",
   "metadata": {},
   "source": [
    "##### Given an integer array, find the sum of the largest contiguous subarray within the array. For example, if the input is [−1, −3, 5, −4, 3, −6, 9, 2], then return 11 (because of [9, 2]). Note that if all the elements are negative, you should return 0."
   ]
  },
  {
   "cell_type": "code",
   "execution_count": null,
   "metadata": {},
   "outputs": [
    {
     "data": {
      "text/plain": [
       "11"
      ]
     },
     "execution_count": 1,
     "metadata": {},
     "output_type": "execute_result"
    }
   ],
   "source": [
    "def max_subarray_sum(arr):\n",
    "    max_current = max_global = 0\n",
    "\n",
    "    for i in arr:\n",
    "        max_current= max(i,max_current+i)\n",
    "        max_global = max(max_global,max_current)\n",
    "\n",
    "    return max_global\n",
    "\n",
    "input_array = [-1, -3, 5, -4, 3, -6, 9, 2]\n",
    "\n",
    "max_subarray_sum(input_array)\n",
    "\n"
   ]
  },
  {
   "cell_type": "markdown",
   "metadata": {},
   "source": [
    "#### Write a function smallest_multiple to find the smallest number that is perfectly divisible (i.e. no remainder) by all numbers from 1 to the target number."
   ]
  },
  {
   "cell_type": "code",
   "execution_count": null,
   "metadata": {},
   "outputs": [
    {
     "data": {
      "text/plain": [
       "27720"
      ]
     },
     "execution_count": 6,
     "metadata": {},
     "output_type": "execute_result"
    }
   ],
   "source": [
    "import math\n",
    "\n",
    "def lcm(a,b):\n",
    "    return (a*b)//math.gcd(a,b)\n",
    "    \n",
    "\n",
    "def smallest_multiple(target):\n",
    "    if target <1:\n",
    "        return 0\n",
    "    \n",
    "    multiple= 1\n",
    "\n",
    "    for i in range(1, target+1):\n",
    "        multiple = lcm(multiple,i)\n",
    "\n",
    "    return multiple\n",
    "\n",
    "target= 11\n",
    "smallest_multiple(target)\n"
   ]
  },
  {
   "cell_type": "markdown",
   "metadata": {},
   "source": [
    "#### Write a Python function max_three(input) that prints all unique combinations of three distinct elements from a given list input. The function should generate combinations in the format (element1, element2, element3)."
   ]
  },
  {
   "cell_type": "code",
   "execution_count": null,
   "metadata": {},
   "outputs": [
    {
     "name": "stdout",
     "output_type": "stream",
     "text": [
      "(11, 22, 23)\n",
      "(11, 22, 44)\n",
      "(11, 23, 44)\n",
      "(22, 23, 44)\n"
     ]
    }
   ],
   "source": [
    "from itertools import combinations\n",
    "\n",
    "def max_three(input_list):\n",
    "    comb =  combinations(input_list,3)\n",
    "\n",
    "    for c in comb:\n",
    "        print(c)\n",
    "\n",
    "input_list = [11, 22, 23, 44]\n",
    "max_three(input_list)"
   ]
  },
  {
   "cell_type": "code",
   "execution_count": 7,
   "metadata": {},
   "outputs": [
    {
     "name": "stdout",
     "output_type": "stream",
     "text": [
      "Scooby\n"
     ]
    }
   ],
   "source": [
    "## Get RANDOM name from a list \n",
    "import random\n",
    "\n",
    "friends = [\"Rony\",\"Scooby\",\"Annie\",\"Whiskey\"]\n",
    "print(random.choice(friends))"
   ]
  },
  {
   "cell_type": "code",
   "execution_count": null,
   "metadata": {},
   "outputs": [],
   "source": []
  },
  {
   "cell_type": "code",
   "execution_count": null,
   "metadata": {},
   "outputs": [],
   "source": []
  },
  {
   "cell_type": "code",
   "execution_count": null,
   "metadata": {},
   "outputs": [],
   "source": []
  }
 ],
 "metadata": {
  "kernelspec": {
   "display_name": ".venv",
   "language": "python",
   "name": "python3"
  },
  "language_info": {
   "codemirror_mode": {
    "name": "ipython",
    "version": 3
   },
   "file_extension": ".py",
   "mimetype": "text/x-python",
   "name": "python",
   "nbconvert_exporter": "python",
   "pygments_lexer": "ipython3",
   "version": "3.12.3"
  }
 },
 "nbformat": 4,
 "nbformat_minor": 2
}
