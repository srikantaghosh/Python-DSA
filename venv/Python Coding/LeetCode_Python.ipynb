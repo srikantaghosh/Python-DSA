{
 "cells": [
  {
   "cell_type": "markdown",
   "metadata": {},
   "source": [
    "### Longest Substring Without Repeating Characters\n",
    "'''\n",
    "\tGiven a string, find the length of the longest substring without repeating characters.\n",
    "\n",
    "\tExamples:\n",
    "\n",
    "\tGiven \"abcabcbb\", the answer is \"abc\", which the length is 3.\n",
    "\n",
    "\tGiven \"bbbbb\", the answer is \"b\", with the length of 1.\n",
    "\n",
    "\tGiven \"pwwkew\", the answer is \"wke\", with the length of 3. Note that the answer must be a substring, \"pwke\" is a subsequence and not a substring.\n",
    "'''"
   ]
  },
  {
   "cell_type": "code",
   "execution_count": 11,
   "metadata": {},
   "outputs": [],
   "source": [
    "class Solution:\n",
    "    def lengthOfLongestSubstring(self, s: str) -> int:\n",
    "        charSet = set()\n",
    "        l = 0\n",
    "        res = 0\n",
    "\n",
    "        for r in range(len(s)):\n",
    "            while s[r] in charSet:\n",
    "                charSet.remove(s[l])\n",
    "                l+=1\n",
    "            charSet.add(s[r])\n",
    "            res = max(res, r-l+1)\n",
    "\n",
    "        return res\n",
    "\n",
    "ss= \"abcabcbb\"\n",
    "\n"
   ]
  },
  {
   "cell_type": "code",
   "execution_count": 14,
   "metadata": {},
   "outputs": [
    {
     "name": "stdout",
     "output_type": "stream",
     "text": [
      "3\n"
     ]
    }
   ],
   "source": [
    "solution = Solution()\n",
    "result = solution.lengthOfLongestSubstring(ss)\n",
    "print(result)\n"
   ]
  },
  {
   "cell_type": "markdown",
   "metadata": {},
   "source": [
    "## 3SUM\n",
    "Given an integer array nums, return all the triplets [nums[i], nums[j], nums[k]] such that i != j, i != k, and j != k, and nums[i] + nums[j] + nums[k] == 0.\n",
    "\n",
    "Notice that the solution set must not contain duplicate triplets.\n"
   ]
  },
  {
   "cell_type": "code",
   "execution_count": null,
   "metadata": {},
   "outputs": [],
   "source": [
    "class Solution:\n",
    "    def threeSum(self, nums: List[int]) -> List[List[int]]:\n",
    "        sum=0\n",
    "        l=\n"
   ]
  },
  {
   "cell_type": "markdown",
   "metadata": {},
   "source": [
    "## Merge Strings Alternately - LeetCode 1768"
   ]
  },
  {
   "cell_type": "code",
   "execution_count": 5,
   "metadata": {},
   "outputs": [
    {
     "data": {
      "text/plain": [
       "'apbqcrst'"
      ]
     },
     "execution_count": 5,
     "metadata": {},
     "output_type": "execute_result"
    }
   ],
   "source": [
    "word1= \"abc\"\n",
    "word2= \"pqrst\"\n",
    "\n",
    "def mergeAtlernatively(word1,word2):\n",
    "    merged = \"\"\n",
    "\n",
    "    for l1,l2 in zip(word1,word2):\n",
    "        merged += l1 +l2\n",
    "\n",
    "    diff = len(word1) - len(word2)\n",
    "    if diff > 0:\n",
    "        merged += word1[-diff:]\n",
    "    elif  diff < 0:\n",
    "        merged += word2[diff:]\n",
    "        \n",
    "    return merged\n",
    "        \n",
    "mergeAtlernatively(word1,word2)\n"
   ]
  },
  {
   "cell_type": "markdown",
   "metadata": {},
   "source": [
    "## Contains Dulicate"
   ]
  },
  {
   "cell_type": "code",
   "execution_count": 12,
   "metadata": {},
   "outputs": [
    {
     "data": {
      "text/plain": [
       "True"
      ]
     },
     "execution_count": 12,
     "metadata": {},
     "output_type": "execute_result"
    }
   ],
   "source": [
    "nums =  [1,2,3,1]\n",
    "\n",
    "def  containsDup(nums):\n",
    "    res = set()\n",
    "    for num in nums:\n",
    "        if num in res:\n",
    "            return True\n",
    "        res.add(num)\n",
    "        \n",
    "        \n",
    "        \n",
    "    return False\n",
    "        \n",
    "\n",
    "      \n",
    "containsDup(nums)\n",
    "    "
   ]
  },
  {
   "cell_type": "markdown",
   "metadata": {},
   "source": [
    "### LL: Find Middle Node \n",
    "#### Implement the find_middle_node method for the LinkedList class.\n"
   ]
  },
  {
   "cell_type": "code",
   "execution_count": 23,
   "metadata": {},
   "outputs": [
    {
     "name": "stdout",
     "output_type": "stream",
     "text": [
      "3\n"
     ]
    }
   ],
   "source": [
    "class Node:\n",
    "    def __init__(self,value):\n",
    "        self.value = value\n",
    "        self.next = None\n",
    "\n",
    "class LinkedList:\n",
    "    def __init__(self, value):\n",
    "        new_node = Node(value)\n",
    "        self.head = new_node\n",
    "        self.tail= new_node\n",
    "\n",
    "\n",
    "    def append(self,value):\n",
    "        new_node = Node(value)\n",
    "        if self.head == None:\n",
    "            self.head = new_node\n",
    "            self.tail = new_node\n",
    "        else:\n",
    "            self.tail.next =  new_node\n",
    "            self.tail= new_node\n",
    "        return True\n",
    "    \n",
    "    def find_middle_node(self):\n",
    "        if self.head is None:\n",
    "            return None\n",
    "        \n",
    "        slow = self.head\n",
    "        fast = self.head\n",
    "\n",
    "        while fast and fast.next:\n",
    "            slow = slow.next\n",
    "            fast = fast.next.next\n",
    "\n",
    "        return slow.value\n",
    "    \n",
    "# Example usage\n",
    "ll = LinkedList(1)\n",
    "ll.append(2)\n",
    "ll.append(3)\n",
    "ll.append(4)\n",
    "ll.append(5)\n",
    "\n",
    "print(ll.find_middle_node())  # Output: 3"
   ]
  },
  {
   "cell_type": "markdown",
   "metadata": {},
   "source": [
    "\n",
    "        \n"
   ]
  },
  {
   "cell_type": "code",
   "execution_count": 31,
   "metadata": {},
   "outputs": [
    {
     "data": {
      "text/plain": [
       "[1, 0]"
      ]
     },
     "execution_count": 31,
     "metadata": {},
     "output_type": "execute_result"
    }
   ],
   "source": [
    "def twoSum(nums, target):\n",
    "        pair_idx = {}\n",
    "\n",
    "        for i, num in enumerate(nums):\n",
    "            if target - num in pair_idx:\n",
    "                return [i, pair_idx[target - num]]\n",
    "            pair_idx[num] = i\n",
    "        \n",
    "nums = [2,7,11,15]\n",
    "target = 9\n",
    "\n",
    "twoSum(nums,target)"
   ]
  },
  {
   "cell_type": "code",
   "execution_count": 35,
   "metadata": {},
   "outputs": [
    {
     "data": {
      "text/plain": [
       "2"
      ]
     },
     "execution_count": 35,
     "metadata": {},
     "output_type": "execute_result"
    }
   ],
   "source": [
    "nums = [1,3,4,2,2]\n",
    "def findDuplicate(nums):\n",
    "    dup = []\n",
    "    for num in nums:\n",
    "        if num in dup:\n",
    "            return num\n",
    "        dup.append(num)\n",
    "    return None\n",
    "    \n",
    "\n",
    "findDuplicate(nums)\n",
    "\n"
   ]
  },
  {
   "cell_type": "code",
   "execution_count": 43,
   "metadata": {},
   "outputs": [
    {
     "name": "stdout",
     "output_type": "stream",
     "text": [
      "9\n"
     ]
    }
   ],
   "source": [
    "##1: Find the Maximum Number in an Array\n",
    "nums = [3, 1, 4, 1, 5, 9, 2, 6, 5, 3, 5]\n",
    "\n",
    "def find_max(arr):\n",
    "    # Initialize max_num with the first element of the array\n",
    "    max_num = arr[0]\n",
    "\n",
    "    # Iterate through each number in the array\n",
    "    for num in arr:\n",
    "        # Update max_num if the current number is greater\n",
    "        if num > max_num:\n",
    "            max_num = num\n",
    "\n",
    "    # Return the maximum number found\n",
    "    return max_num\n",
    "\n",
    "# Call the function with the given array\n",
    "print(find_max(nums))  # Output should be 9\n",
    "\n"
   ]
  },
  {
   "cell_type": "code",
   "execution_count": 45,
   "metadata": {},
   "outputs": [
    {
     "data": {
      "text/plain": [
       "[3, 1, 4, 5, 9, 2, 6]"
      ]
     },
     "execution_count": 45,
     "metadata": {},
     "output_type": "execute_result"
    }
   ],
   "source": [
    "### 2: Remove Duplicates from an Array\n",
    "nums: [1, 2, 2, 3, 4, 4, 5]\n",
    "\n",
    "def remove_duplicates(arr):\n",
    "    seen = set()\n",
    "    result = []\n",
    "\n",
    "    for num in arr:\n",
    "        if num not in seen:\n",
    "            seen.add(num)\n",
    "            result.append(num)\n",
    "\n",
    "    return result\n",
    "\n",
    "\n",
    "remove_duplicates(nums)\n"
   ]
  },
  {
   "cell_type": "code",
   "execution_count": 52,
   "metadata": {},
   "outputs": [
    {
     "name": "stdout",
     "output_type": "stream",
     "text": [
      "[5, 6, 7, 1, 2, 3, 4]\n"
     ]
    }
   ],
   "source": [
    "###3. Rotate an Array\n",
    "##Write a function rotate_array(arr, k) that takes an array of integers arr and an integer k as \n",
    "##input and rotates the array to the right by k steps.\n",
    "\n",
    "def rotate_array(arr, k):\n",
    "      # Handle cases where k is larger than the length of the array\n",
    "    k = k%len(arr)\n",
    "\n",
    "    return arr[-k:]+arr[:-k]\n",
    "\n",
    "arr = [1, 2, 3, 4, 5, 6, 7]\n",
    "k = 3\n",
    "\n",
    "print(rotate_array(arr, k))\n"
   ]
  },
  {
   "cell_type": "code",
   "execution_count": 55,
   "metadata": {},
   "outputs": [
    {
     "data": {
      "text/plain": [
       "-1"
      ]
     },
     "execution_count": 55,
     "metadata": {},
     "output_type": "execute_result"
    }
   ],
   "source": [
    "\n",
    "# 4: Find the Missing Number\n",
    "# Problem Statement:\n",
    "# Given an array containing n distinct numbers taken from the range 0 to n, write a function find_missing_number(arr) that \n",
    "#returns the number that is missing from the array.\n",
    "num = [5,3,2,1]\n",
    "def find_missing_number(arr):\n",
    "    n = len(arr)\n",
    "\n",
    "    expected_sum = n *(n+1)//2\n",
    "\n",
    "    actual_sum= sum(arr)\n",
    "\n",
    "    return expected_sum - actual_sum\n",
    "\n",
    "find_missing_number(num)\n"
   ]
  },
  {
   "cell_type": "code",
   "execution_count": 58,
   "metadata": {},
   "outputs": [
    {
     "name": "stdout",
     "output_type": "stream",
     "text": [
      "2\n",
      "3\n",
      "5\n",
      "7\n"
     ]
    }
   ],
   "source": [
    "# Python program to display all the prime numbers within an interval\n",
    "\n",
    "lower=1\n",
    "upper = 10\n",
    "\n",
    "for num in range(lower, upper+1):\n",
    "    if num>1:\n",
    "        for i in range(2,num):\n",
    "            if num % i == 0:\n",
    "                break\n",
    "        else:\n",
    "            print(num)"
   ]
  },
  {
   "cell_type": "code",
   "execution_count": 59,
   "metadata": {},
   "outputs": [
    {
     "name": "stdout",
     "output_type": "stream",
     "text": [
      "3 X 1 = 3\n",
      "3 X 2 = 6\n",
      "3 X 3 = 9\n",
      "3 X 4 = 12\n",
      "3 X 5 = 15\n",
      "3 X 6 = 18\n",
      "3 X 7 = 21\n",
      "3 X 8 = 24\n",
      "3 X 9 = 27\n",
      "3 X 10 = 30\n"
     ]
    }
   ],
   "source": [
    "### Write a Python Program to Display the multiplication Table.\n",
    "\n",
    "num = int(input(\"Display multiplication table of: \"))\n",
    "\n",
    "for i in range(1,11):\n",
    "    print(f\"{num} X {i} = {num*i}\")"
   ]
  },
  {
   "cell_type": "code",
   "execution_count": 60,
   "metadata": {},
   "outputs": [
    {
     "name": "stdout",
     "output_type": "stream",
     "text": [
      "Fibonacci sequence: \n",
      "0\n",
      "1\n",
      "1\n",
      "2\n",
      "3\n"
     ]
    }
   ],
   "source": [
    "#Write a Python Program to Print the Fibonacci sequence.\n",
    "nterms = int(input(\"How many terms: \"))\n",
    "\n",
    "n1,n2 = 0,1\n",
    "count = 0\n",
    "\n",
    "if nterms < 0:\n",
    "    print(\"Please enter a positive integer\")\n",
    "\n",
    "elif nterms == 1:\n",
    "    print(\"Fibonacci sequence upto\", nterms,\":\")\n",
    "    print(n1)\n",
    "\n",
    "else:\n",
    "    print(\"Fibonacci sequence: \")\n",
    "    while count < nterms:\n",
    "        print(n1)\n",
    "        nth = n1+n2\n",
    "\n",
    "        n1 = n2\n",
    "        n2 = nth\n",
    "\n",
    "        count+=1\n"
   ]
  },
  {
   "cell_type": "code",
   "execution_count": 63,
   "metadata": {},
   "outputs": [
    {
     "data": {
      "text/plain": [
       "3.6"
      ]
     },
     "execution_count": 63,
     "metadata": {},
     "output_type": "execute_result"
    }
   ],
   "source": [
    "## Given a sentence, calculate the average word length.\n",
    "\n",
    "sentence = \"Hi my name is Srikanta\"\n",
    "\n",
    "def avg_word_len(sentence):\n",
    "    words= sentence.split()\n",
    "    total_length = 0\n",
    "    for word in words:\n",
    "        total_length += len(word)\n",
    "    return  total_length/len(words)\n",
    "\n",
    "\n",
    "avg_word_len(sentence)\n",
    "\n",
    "\n",
    "    \n",
    "        "
   ]
  },
  {
   "cell_type": "markdown",
   "metadata": {},
   "source": [
    "Steps Breakdown:\n",
    "\n",
    "    Splitting the Sentence (sentence.split()):\n",
    "        This step splits the sentence into a list of words.\n",
    "        Time Complexity: O(n)O(n), where nn is the length of the sentence.\n",
    "\n",
    "    Initializing total_length:\n",
    "        This is a constant time operation.\n",
    "        Time Complexity: O(1)O(1).\n",
    "\n",
    "    Iterating Through Each Word (for word in words):\n",
    "        This loop runs once for each word in the sentence.\n",
    "        For each word, it calculates the length (len(word)), which takes O(m)O(m) time, where mm is the length of the word.\n",
    "        If there are kk words in the sentence, and the average word length is mm, then this step has a time complexity of O(k⋅m)O(k⋅m).\n",
    "\n",
    "    Calculating and Returning the Average Word Length:\n",
    "        Finding the length of the list of words (len(words)) takes O(1)O(1) time.\n",
    "        Division and return are also O(1)O(1).\n",
    "        Time Complexity: O(1)O(1).\n",
    "\n",
    "Overall Time Complexity:\n",
    "\n",
    "    Splitting the sentence into words: O(n)O(n)\n",
    "    Iterating through each word and calculating their lengths: O(k⋅m)O(k⋅m), where kk is the number of words, and mm is the average length of a word.\n",
    "\n",
    "Since nn (the total number of characters in the sentence) is approximately equal to k⋅mk⋅m (total characters in all words combined), the overall time complexity can be simplified to:\n",
    "\n",
    "Time Complexity: O(n)O(n)\n",
    "\n",
    "This means that the time complexity of the function avg_word_len is linear in relation to the length of the input sentence."
   ]
  },
  {
   "cell_type": "code",
   "execution_count": 66,
   "metadata": {},
   "outputs": [
    {
     "data": {
      "text/plain": [
       "True"
      ]
     },
     "execution_count": 66,
     "metadata": {},
     "output_type": "execute_result"
    }
   ],
   "source": [
    "##Given an integer x, return true if x is a palindrome , and false otherwise.\n",
    "num = 1331\n",
    "def is_palindrome(x: int) -> bool:\n",
    "    str_x = str(x)\n",
    "\n",
    "    return str_x == str_x[::-1]\n",
    "\n",
    "is_palindrome(num)\n",
    "\n",
    "## Time complexity of: O(n), Linear Time "
   ]
  },
  {
   "cell_type": "code",
   "execution_count": null,
   "metadata": {},
   "outputs": [],
   "source": []
  },
  {
   "cell_type": "code",
   "execution_count": null,
   "metadata": {},
   "outputs": [],
   "source": []
  },
  {
   "cell_type": "code",
   "execution_count": null,
   "metadata": {},
   "outputs": [],
   "source": []
  }
 ],
 "metadata": {
  "kernelspec": {
   "display_name": "venv",
   "language": "python",
   "name": "python3"
  },
  "language_info": {
   "codemirror_mode": {
    "name": "ipython",
    "version": 3
   },
   "file_extension": ".py",
   "mimetype": "text/x-python",
   "name": "python",
   "nbconvert_exporter": "python",
   "pygments_lexer": "ipython3",
   "version": "3.12.3"
  }
 },
 "nbformat": 4,
 "nbformat_minor": 2
}
