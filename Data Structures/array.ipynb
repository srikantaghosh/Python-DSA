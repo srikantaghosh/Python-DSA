{
 "cells": [
  {
   "cell_type": "code",
   "execution_count": 1,
   "metadata": {},
   "outputs": [],
   "source": [
    "from array import *"
   ]
  },
  {
   "cell_type": "code",
   "execution_count": 5,
   "metadata": {},
   "outputs": [
    {
     "name": "stdout",
     "output_type": "stream",
     "text": [
      "1\n",
      "2\n",
      "3\n",
      "4\n",
      "5\n"
     ]
    }
   ],
   "source": [
    "# 1. Create an array and traverse - O(N)\n",
    "\n",
    "my_array =  array('i',[1,2,3,4,5])\n",
    "\n",
    "for i in my_array:\n",
    "    print(i)"
   ]
  },
  {
   "cell_type": "code",
   "execution_count": 7,
   "metadata": {},
   "outputs": [
    {
     "data": {
      "text/plain": [
       "3"
      ]
     },
     "execution_count": 7,
     "metadata": {},
     "output_type": "execute_result"
    }
   ],
   "source": [
    "# 2. Access individual elements through indexes\n",
    "my_array =  array('i',[1,2,3,4,5])\n",
    "\n",
    "my_array[2]"
   ]
  },
  {
   "cell_type": "code",
   "execution_count": 8,
   "metadata": {},
   "outputs": [
    {
     "data": {
      "text/plain": [
       "array('i', [1, 2, 3, 4, 5, 6])"
      ]
     },
     "execution_count": 8,
     "metadata": {},
     "output_type": "execute_result"
    }
   ],
   "source": [
    "# 3. Append any value to the array using append() method --O(1)\n",
    "my_array =  array('i',[1,2,3,4,5])\n",
    "my_array.append(6)\n",
    "my_array\n"
   ]
  },
  {
   "cell_type": "code",
   "execution_count": 9,
   "metadata": {},
   "outputs": [
    {
     "data": {
      "text/plain": [
       "array('i', [11, 1, 2, 3, 4, 5])"
      ]
     },
     "execution_count": 9,
     "metadata": {},
     "output_type": "execute_result"
    }
   ],
   "source": [
    "# 4. Insert value in an array using insert() method \n",
    "my_array =  array('i',[1,2,3,4,5])\n",
    "my_array.insert(0,11)\n",
    "my_array"
   ]
  },
  {
   "cell_type": "code",
   "execution_count": null,
   "metadata": {},
   "outputs": [],
   "source": [
    "# 5. Extend python array using extend() method\n",
    "\n",
    "  "
   ]
  },
  {
   "cell_type": "code",
   "execution_count": null,
   "metadata": {},
   "outputs": [],
   "source": [
    "# 6. Add items from list into array using fromlist() method"
   ]
  },
  {
   "cell_type": "code",
   "execution_count": null,
   "metadata": {},
   "outputs": [],
   "source": [
    "# 7. Remove any array element using remove() method"
   ]
  },
  {
   "cell_type": "code",
   "execution_count": null,
   "metadata": {},
   "outputs": [],
   "source": [
    "# 8. Remove last array element using pop() method"
   ]
  },
  {
   "cell_type": "code",
   "execution_count": null,
   "metadata": {},
   "outputs": [],
   "source": [
    "# 9. Fetch any element through its index using index() method"
   ]
  },
  {
   "cell_type": "code",
   "execution_count": null,
   "metadata": {},
   "outputs": [],
   "source": [
    "# 10. Reverse a python array using reverse() method"
   ]
  },
  {
   "cell_type": "code",
   "execution_count": null,
   "metadata": {},
   "outputs": [],
   "source": [
    "# 11. Get array buffer information through buffer_info() method"
   ]
  },
  {
   "cell_type": "code",
   "execution_count": null,
   "metadata": {},
   "outputs": [],
   "source": [
    "# 12. Check for number of occurrences of an element using count() method"
   ]
  },
  {
   "cell_type": "code",
   "execution_count": null,
   "metadata": {},
   "outputs": [],
   "source": [
    "# 13. Convert array to string using tostring() method"
   ]
  },
  {
   "cell_type": "code",
   "execution_count": null,
   "metadata": {},
   "outputs": [],
   "source": [
    "# 14. Convert array to a python list with same elements using tolist() method"
   ]
  },
  {
   "cell_type": "code",
   "execution_count": null,
   "metadata": {},
   "outputs": [],
   "source": [
    "# 15. Append a string to char array using fromstring() method\n",
    "\n",
    "# 16. Slice Elements from an array"
   ]
  },
  {
   "cell_type": "code",
   "execution_count": 10,
   "metadata": {},
   "outputs": [
    {
     "name": "stdout",
     "output_type": "stream",
     "text": [
      "Milk\n",
      "Cheese\n",
      "Butter\n"
     ]
    }
   ],
   "source": [
    "## Accessing/Traversing List\n",
    "\n",
    "shopping = ['Milk','Cheese','Butter']\n",
    "\n",
    "for i in shopping:\n",
    "    print(i)\n",
    " "
   ]
  },
  {
   "cell_type": "code",
   "execution_count": 11,
   "metadata": {},
   "outputs": [
    {
     "name": "stdout",
     "output_type": "stream",
     "text": [
      "True\n",
      "False\n"
     ]
    }
   ],
   "source": [
    "shopping = ['Milk','Cheese','Butter']\n",
    "\n",
    "print('Milk' in shopping)\n",
    "print('Bread' in shopping)"
   ]
  },
  {
   "cell_type": "code",
   "execution_count": 13,
   "metadata": {},
   "outputs": [
    {
     "name": "stdout",
     "output_type": "stream",
     "text": [
      "Butter\n",
      "['Butter', 'Cheese', 'Milk']\n"
     ]
    }
   ],
   "source": [
    "shopping = ['Milk','Cheese','Butter']\n",
    "\n",
    "print(shopping[-1])\n",
    "print(shopping[::-1])"
   ]
  },
  {
   "cell_type": "code",
   "execution_count": 15,
   "metadata": {},
   "outputs": [
    {
     "name": "stdout",
     "output_type": "stream",
     "text": [
      "Milk+\n",
      "Cheese+\n",
      "Butter+\n"
     ]
    }
   ],
   "source": [
    "## Update operations on LIST\n",
    "\n",
    "\n",
    "shopping = ['Milk','Cheese','Butter']\n",
    "\n",
    "for i in range(len(shopping)):\n",
    "    shopping[i] = shopping[i]+\"+\"\n",
    "    print(shopping[i])"
   ]
  },
  {
   "cell_type": "code",
   "execution_count": 16,
   "metadata": {},
   "outputs": [
    {
     "name": "stdout",
     "output_type": "stream",
     "text": [
      "[1, 2, 3, 4, 5, 6, 7]\n",
      "[1, 2, 33, 4, 5, 6, 7]\n"
     ]
    }
   ],
   "source": [
    "##update/insert in list\n",
    "## LIST are mutable\n",
    "\n",
    "myList = [1,2,3,4,5,6,7]\n",
    "print(myList)\n",
    "\n",
    "myList[2] =33\n",
    "print(myList)"
   ]
  },
  {
   "cell_type": "code",
   "execution_count": 17,
   "metadata": {},
   "outputs": [
    {
     "name": "stdout",
     "output_type": "stream",
     "text": [
      "['s', 'p', 'a', 'm']\n"
     ]
    }
   ],
   "source": [
    "## String to LIST\n",
    "\n",
    "a = 'spam'\n",
    "b = list(a)\n",
    "print(b)"
   ]
  },
  {
   "cell_type": "code",
   "execution_count": 18,
   "metadata": {},
   "outputs": [
    {
     "name": "stdout",
     "output_type": "stream",
     "text": [
      "['spam', 'spam', 'spam']\n"
     ]
    }
   ],
   "source": [
    "a = 'spam spam spam'\n",
    "b = a.split()\n",
    "print(b)"
   ]
  },
  {
   "cell_type": "code",
   "execution_count": 19,
   "metadata": {},
   "outputs": [
    {
     "name": "stdout",
     "output_type": "stream",
     "text": [
      "['spam1', 'spam2', 'spam3']\n"
     ]
    }
   ],
   "source": [
    "#delimiter\n",
    "\n",
    "a = 'spam1-spam2-spam3'\n",
    "delimiter= '-'\n",
    "\n",
    "b = a.split(delimiter)\n",
    "print(b)"
   ]
  },
  {
   "cell_type": "code",
   "execution_count": 20,
   "metadata": {},
   "outputs": [
    {
     "name": "stdout",
     "output_type": "stream",
     "text": [
      "['spam1', 'spam2', 'spam3']\n",
      "spam1-spam2-spam3\n"
     ]
    }
   ],
   "source": [
    "##joint\n",
    "\n",
    "a = 'spam1-spam2-spam3'\n",
    "delimiter= '-'\n",
    "\n",
    "b = a.split(delimiter)\n",
    "print(b)\n",
    "print(delimiter.join(b))"
   ]
  },
  {
   "cell_type": "code",
   "execution_count": 22,
   "metadata": {},
   "outputs": [
    {
     "data": {
      "text/plain": [
       "[2, 4, 6]"
      ]
     },
     "execution_count": 22,
     "metadata": {},
     "output_type": "execute_result"
    }
   ],
   "source": [
    "## LIST COMPREHENSION\n",
    "\n",
    "## old approach\n",
    "prev_list = [1,2,3]\n",
    "new_list = []\n",
    "\n",
    "for i in prev_list:\n",
    "    multiply_2 = i * 2\n",
    "    new_list.append(multiply_2)\n",
    "\n",
    "new_list"
   ]
  },
  {
   "cell_type": "code",
   "execution_count": 23,
   "metadata": {},
   "outputs": [
    {
     "data": {
      "text/plain": [
       "[2, 4, 6]"
      ]
     },
     "execution_count": 23,
     "metadata": {},
     "output_type": "execute_result"
    }
   ],
   "source": [
    "## LIST COMPREHENSION\n",
    "prev_list = [1,2,3]\n",
    "new_list = [i*2 for i in prev_list]\n",
    "new_list\n"
   ]
  },
  {
   "cell_type": "code",
   "execution_count": 24,
   "metadata": {},
   "outputs": [
    {
     "data": {
      "text/plain": [
       "['P', 'y', 't', 'h', 'o', 'n']"
      ]
     },
     "execution_count": 24,
     "metadata": {},
     "output_type": "execute_result"
    }
   ],
   "source": [
    "language = \"Python\"\n",
    "\n",
    "new_list = [i for i in language]\n",
    "new_list"
   ]
  },
  {
   "cell_type": "code",
   "execution_count": 25,
   "metadata": {},
   "outputs": [
    {
     "data": {
      "text/plain": [
       "[10, 2, 33]"
      ]
     },
     "execution_count": 25,
     "metadata": {},
     "output_type": "execute_result"
    }
   ],
   "source": [
    "## CONDITIONAL LIST COMPREHENSION\n",
    "prev_list = [-1,10,-29,2,-98,33]\n",
    "\n",
    "next_list= [i for i in prev_list if i >=0]\n",
    "next_list\n"
   ]
  },
  {
   "cell_type": "code",
   "execution_count": 28,
   "metadata": {},
   "outputs": [
    {
     "data": {
      "text/plain": [
       "[1, 841, 9604]"
      ]
     },
     "execution_count": 28,
     "metadata": {},
     "output_type": "execute_result"
    }
   ],
   "source": [
    "### square of negative numbers\n",
    "prev_list = [-1,10,-29,2,-98,33]\n",
    "\n",
    "next_list= [i**2 for i in prev_list if i <0]\n",
    "next_list"
   ]
  },
  {
   "cell_type": "code",
   "execution_count": 30,
   "metadata": {},
   "outputs": [
    {
     "name": "stdout",
     "output_type": "stream",
     "text": [
      "['M', 'y', 'n', 'm', 's', 'S', 'r', 'k', 'n', 't']\n"
     ]
    }
   ],
   "source": [
    "sentence = \"My name is Srikanta\"\n",
    "\n",
    "def is_consonant(letter):\n",
    "    vowels = 'aeiou'\n",
    "    return letter.isalpha() and letter.lower() not in vowels\n",
    "\n",
    "consonant = [i for i in sentence if is_consonant(i)]\n",
    "print(consonant)"
   ]
  },
  {
   "cell_type": "code",
   "execution_count": null,
   "metadata": {},
   "outputs": [],
   "source": []
  },
  {
   "cell_type": "code",
   "execution_count": null,
   "metadata": {},
   "outputs": [],
   "source": []
  }
 ],
 "metadata": {
  "kernelspec": {
   "display_name": ".venv",
   "language": "python",
   "name": "python3"
  },
  "language_info": {
   "codemirror_mode": {
    "name": "ipython",
    "version": 3
   },
   "file_extension": ".py",
   "mimetype": "text/x-python",
   "name": "python",
   "nbconvert_exporter": "python",
   "pygments_lexer": "ipython3",
   "version": "3.12.3"
  }
 },
 "nbformat": 4,
 "nbformat_minor": 2
}
